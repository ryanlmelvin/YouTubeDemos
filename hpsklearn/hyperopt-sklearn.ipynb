{
 "cells": [
  {
   "cell_type": "markdown",
   "id": "relative-arkansas",
   "metadata": {},
   "source": [
    "# Hyperopt-sklearn\n",
    "\n",
    "Following Jason Brownlee's example:\n",
    "https://machinelearningmastery.com/hyperopt-for-automated-machine-learning-with-scikit-learn/\n",
    "\n",
    "See More documentation at \n",
    "https://hyperopt.github.io/hyperopt-sklearn/"
   ]
  },
  {
   "cell_type": "code",
   "execution_count": 1,
   "id": "advisory-business",
   "metadata": {},
   "outputs": [
    {
     "name": "stdout",
     "output_type": "stream",
     "text": [
      "WARN: OMP_NUM_THREADS=None =>\n",
      "... If you are using openblas if you are using openblas set OMP_NUM_THREADS=1 or risk subprocess calls hanging indefinitely\n"
     ]
    }
   ],
   "source": [
    "# example of hyperopt-sklearn for the sonar classification dataset\n",
    "from pandas import read_csv\n",
    "from sklearn.model_selection import train_test_split\n",
    "from sklearn.preprocessing import LabelEncoder\n",
    "from hpsklearn import HyperoptEstimator\n",
    "from hpsklearn import any_classifier\n",
    "from hpsklearn import any_preprocessing\n",
    "from hyperopt import tpe"
   ]
  },
  {
   "cell_type": "markdown",
   "id": "statutory-stereo",
   "metadata": {},
   "source": [
    "Using \"sonar\" data set. Description at \n",
    "https://raw.githubusercontent.com/jbrownlee/Datasets/master/sonar.names"
   ]
  },
  {
   "cell_type": "code",
   "execution_count": 2,
   "id": "broken-purchase",
   "metadata": {},
   "outputs": [],
   "source": [
    "# load dataset\n",
    "url = 'https://raw.githubusercontent.com/jbrownlee/Datasets/master/sonar.csv'\n",
    "dataframe = read_csv(url, header=None)"
   ]
  },
  {
   "cell_type": "code",
   "execution_count": 3,
   "id": "liquid-christmas",
   "metadata": {},
   "outputs": [],
   "source": [
    "# split into input and output elements\n",
    "data = dataframe.values\n",
    "X, y = data[:, :-1], data[:, -1]\n",
    "# minimally prepare dataset\n",
    "X = X.astype('float32')\n",
    "y = LabelEncoder().fit_transform(y.astype('str'))"
   ]
  },
  {
   "cell_type": "code",
   "execution_count": 4,
   "id": "dense-color",
   "metadata": {},
   "outputs": [],
   "source": [
    "# split into train and test sets\n",
    "X_train, X_test, y_train, y_test = train_test_split(X, y, test_size=0.33, random_state=1)"
   ]
  },
  {
   "cell_type": "code",
   "execution_count": 5,
   "id": "filled-impossible",
   "metadata": {},
   "outputs": [],
   "source": [
    "# define search\n",
    "# see more options at See More documentation at \n",
    "#https://hyperopt.github.io/hyperopt-sklearn/\n",
    "\n",
    "model = HyperoptEstimator(\n",
    "    classifier=any_classifier('cla')\n",
    "    , preprocessing=any_preprocessing('pre')\n",
    "    , algo=tpe.suggest\n",
    "    , max_evals=50\n",
    "    , trial_timeout=30\n",
    ") "
   ]
  },
  {
   "cell_type": "markdown",
   "id": "filled-relation",
   "metadata": {},
   "source": [
    "## Classifiers\n",
    "- SVC\n",
    "- LinearSVCKNeightborsClassifier\n",
    "- RandomForestClassifier\n",
    "- ExtraTreesClassifier\n",
    "- SGDClassifier\n",
    "- MultinomialNB\n",
    "- BernoulliRBM\n",
    "- ColumnKMeans\n",
    "\n",
    "## Preprocessing\n",
    "- PCA\n",
    "- TfidfVectorizer\n",
    "- StandardScalar\n",
    "- MinMaxScalar\n",
    "- Normalizer\n",
    "- OneHotEncoder"
   ]
  },
  {
   "cell_type": "code",
   "execution_count": 6,
   "id": "emerging-advancement",
   "metadata": {},
   "outputs": [
    {
     "name": "stdout",
     "output_type": "stream",
     "text": [
      "100%|██████████████████████████████████████████████████| 1/1 [00:01<00:00,  1.17s/trial, best loss: 0.1785714285714286]\n",
      "100%|██████████████████████████████████████████████████| 2/2 [00:01<00:00,  1.40s/trial, best loss: 0.0357142857142857]\n",
      "100%|██████████████████████████████████████████████████| 3/3 [00:01<00:00,  1.15s/trial, best loss: 0.0357142857142857]\n",
      "100%|██████████████████████████████████████████████████| 4/4 [00:01<00:00,  1.15s/trial, best loss: 0.0357142857142857]\n",
      "100%|██████████████████████████████████████████████████| 5/5 [00:01<00:00,  1.19s/trial, best loss: 0.0357142857142857]\n",
      "100%|██████████████████████████████████████████████████| 6/6 [00:01<00:00,  1.15s/trial, best loss: 0.0357142857142857]\n",
      "100%|██████████████████████████████████████████████████| 7/7 [00:01<00:00,  1.15s/trial, best loss: 0.0357142857142857]\n",
      "100%|██████████████████████████████████████████████████| 8/8 [00:01<00:00,  1.63s/trial, best loss: 0.0357142857142857]\n",
      "100%|██████████████████████████████████████████████████| 9/9 [00:01<00:00,  1.12s/trial, best loss: 0.0357142857142857]\n",
      "100%|████████████████████████████████████████████████| 10/10 [00:01<00:00,  1.31s/trial, best loss: 0.0357142857142857]\n",
      "100%|████████████████████████████████████████████████| 11/11 [00:01<00:00,  1.15s/trial, best loss: 0.0357142857142857]\n",
      "100%|████████████████████████████████████████████████| 12/12 [00:01<00:00,  1.16s/trial, best loss: 0.0357142857142857]\n",
      "100%|████████████████████████████████████████████████| 13/13 [00:01<00:00,  1.18s/trial, best loss: 0.0357142857142857]\n",
      "100%|████████████████████████████████████████████████| 14/14 [00:01<00:00,  1.17s/trial, best loss: 0.0357142857142857]\n",
      "100%|████████████████████████████████████████████████| 15/15 [00:01<00:00,  1.22s/trial, best loss: 0.0357142857142857]\n",
      "100%|████████████████████████████████████████████████| 16/16 [00:01<00:00,  1.19s/trial, best loss: 0.0357142857142857]\n",
      "100%|████████████████████████████████████████████████| 17/17 [00:01<00:00,  1.12s/trial, best loss: 0.0357142857142857]\n",
      "100%|████████████████████████████████████████████████| 18/18 [00:01<00:00,  1.19s/trial, best loss: 0.0357142857142857]\n",
      "100%|████████████████████████████████████████████████| 19/19 [00:01<00:00,  1.26s/trial, best loss: 0.0357142857142857]\n",
      "100%|████████████████████████████████████████████████| 20/20 [00:01<00:00,  1.33s/trial, best loss: 0.0357142857142857]\n",
      "100%|████████████████████████████████████████████████| 21/21 [00:02<00:00,  2.08s/trial, best loss: 0.0357142857142857]\n",
      "100%|████████████████████████████████████████████████| 22/22 [00:01<00:00,  1.20s/trial, best loss: 0.0357142857142857]\n",
      "100%|████████████████████████████████████████████████| 23/23 [00:01<00:00,  1.21s/trial, best loss: 0.0357142857142857]\n",
      "100%|████████████████████████████████████████████████| 24/24 [00:01<00:00,  1.24s/trial, best loss: 0.0357142857142857]\n",
      "100%|████████████████████████████████████████████████| 25/25 [00:02<00:00,  2.21s/trial, best loss: 0.0357142857142857]\n",
      "100%|████████████████████████████████████████████████| 26/26 [00:01<00:00,  1.39s/trial, best loss: 0.0357142857142857]\n",
      "100%|████████████████████████████████████████████████| 27/27 [00:01<00:00,  1.36s/trial, best loss: 0.0357142857142857]\n",
      "100%|████████████████████████████████████████████████| 28/28 [00:02<00:00,  2.14s/trial, best loss: 0.0357142857142857]\n",
      "100%|████████████████████████████████████████████████| 29/29 [00:01<00:00,  1.31s/trial, best loss: 0.0357142857142857]\n",
      "100%|████████████████████████████████████████████████| 30/30 [00:01<00:00,  1.26s/trial, best loss: 0.0357142857142857]\n",
      "100%|████████████████████████████████████████████████| 31/31 [00:01<00:00,  1.17s/trial, best loss: 0.0357142857142857]\n",
      "100%|████████████████████████████████████████████████| 32/32 [00:03<00:00,  3.43s/trial, best loss: 0.0357142857142857]\n",
      "100%|████████████████████████████████████████████████| 33/33 [00:02<00:00,  2.74s/trial, best loss: 0.0357142857142857]\n",
      "100%|████████████████████████████████████████████████| 34/34 [00:01<00:00,  1.25s/trial, best loss: 0.0357142857142857]\n",
      "100%|████████████████████████████████████████████████| 35/35 [00:01<00:00,  1.49s/trial, best loss: 0.0357142857142857]\n",
      "100%|████████████████████████████████████████████████| 36/36 [00:01<00:00,  1.42s/trial, best loss: 0.0357142857142857]\n",
      "100%|████████████████████████████████████████████████| 37/37 [00:01<00:00,  1.19s/trial, best loss: 0.0357142857142857]\n",
      "100%|████████████████████████████████████████████████| 38/38 [00:01<00:00,  1.98s/trial, best loss: 0.0357142857142857]\n",
      "100%|████████████████████████████████████████████████| 39/39 [00:01<00:00,  1.20s/trial, best loss: 0.0357142857142857]\n",
      "100%|████████████████████████████████████████████████| 40/40 [00:01<00:00,  1.22s/trial, best loss: 0.0357142857142857]\n",
      "100%|████████████████████████████████████████████████| 41/41 [00:02<00:00,  2.67s/trial, best loss: 0.0357142857142857]\n",
      "100%|████████████████████████████████████████████████| 42/42 [00:01<00:00,  1.22s/trial, best loss: 0.0357142857142857]\n",
      "100%|████████████████████████████████████████████████| 43/43 [00:01<00:00,  1.22s/trial, best loss: 0.0357142857142857]\n",
      "100%|████████████████████████████████████████████████| 44/44 [00:01<00:00,  1.22s/trial, best loss: 0.0357142857142857]\n",
      "100%|████████████████████████████████████████████████| 45/45 [00:01<00:00,  1.18s/trial, best loss: 0.0357142857142857]\n",
      "100%|████████████████████████████████████████████████| 46/46 [00:01<00:00,  1.30s/trial, best loss: 0.0357142857142857]\n",
      "100%|████████████████████████████████████████████████| 47/47 [00:01<00:00,  1.18s/trial, best loss: 0.0357142857142857]\n",
      "100%|████████████████████████████████████████████████| 48/48 [00:01<00:00,  1.22s/trial, best loss: 0.0357142857142857]\n",
      "100%|████████████████████████████████████████████████| 49/49 [00:01<00:00,  1.23s/trial, best loss: 0.0357142857142857]\n",
      "100%|████████████████████████████████████████████████| 50/50 [00:01<00:00,  1.20s/trial, best loss: 0.0357142857142857]\n"
     ]
    }
   ],
   "source": [
    "# perform the search\n",
    "model.fit(X_train, y_train)"
   ]
  },
  {
   "cell_type": "code",
   "execution_count": 7,
   "id": "widespread-exhaust",
   "metadata": {},
   "outputs": [
    {
     "name": "stdout",
     "output_type": "stream",
     "text": [
      "Accuracy: 0.797\n"
     ]
    }
   ],
   "source": [
    "# summarize performance\n",
    "acc = model.score(X_test, y_test)\n",
    "print(\"Accuracy: %.3f\" % acc)"
   ]
  },
  {
   "cell_type": "code",
   "execution_count": 8,
   "id": "juvenile-income",
   "metadata": {},
   "outputs": [
    {
     "name": "stdout",
     "output_type": "stream",
     "text": [
      "{'learner': RandomForestClassifier(bootstrap=False, max_features='sqrt', n_estimators=307,\n",
      "                       n_jobs=1, random_state=0, verbose=False), 'preprocs': (StandardScaler(with_std=False),), 'ex_preprocs': ()}\n"
     ]
    }
   ],
   "source": [
    "# summarize the best model\n",
    "print(model.best_model())"
   ]
  },
  {
   "cell_type": "code",
   "execution_count": null,
   "id": "reduced-avatar",
   "metadata": {},
   "outputs": [],
   "source": []
  },
  {
   "cell_type": "code",
   "execution_count": null,
   "id": "boring-possibility",
   "metadata": {},
   "outputs": [],
   "source": []
  },
  {
   "cell_type": "code",
   "execution_count": null,
   "id": "human-express",
   "metadata": {},
   "outputs": [],
   "source": []
  },
  {
   "cell_type": "markdown",
   "id": "balanced-muscle",
   "metadata": {},
   "source": [
    "## Specify loss function\n",
    "Default is accuracy for classifier and R-squared for regression: https://github.com/hyperopt/hyperopt-sklearn/blob/master/hpsklearn/estimator.py"
   ]
  },
  {
   "cell_type": "code",
   "execution_count": null,
   "id": "junior-pension",
   "metadata": {},
   "outputs": [],
   "source": [
    "from sklearn.metrics import mean_absolute_error"
   ]
  },
  {
   "cell_type": "code",
   "execution_count": null,
   "id": "editorial-influence",
   "metadata": {},
   "outputs": [],
   "source": [
    "model = HyperoptEstimator(\n",
    "    classifier=any_classifier('cla')\n",
    "    , preprocessing=any_preprocessing('pre')\n",
    "    , algo=tpe.suggest\n",
    "    , max_evals=50\n",
    "    , trial_timeout=30\n",
    "    , loss_fn=mean_absolute_error\n",
    ") "
   ]
  },
  {
   "cell_type": "code",
   "execution_count": null,
   "id": "essential-artist",
   "metadata": {},
   "outputs": [],
   "source": [
    "# perform the search\n",
    "model.fit(X_train, y_train)"
   ]
  }
 ],
 "metadata": {
  "kernelspec": {
   "display_name": "Python 3",
   "language": "python",
   "name": "python3"
  },
  "language_info": {
   "codemirror_mode": {
    "name": "ipython",
    "version": 3
   },
   "file_extension": ".py",
   "mimetype": "text/x-python",
   "name": "python",
   "nbconvert_exporter": "python",
   "pygments_lexer": "ipython3",
   "version": "3.8.8"
  }
 },
 "nbformat": 4,
 "nbformat_minor": 5
}
